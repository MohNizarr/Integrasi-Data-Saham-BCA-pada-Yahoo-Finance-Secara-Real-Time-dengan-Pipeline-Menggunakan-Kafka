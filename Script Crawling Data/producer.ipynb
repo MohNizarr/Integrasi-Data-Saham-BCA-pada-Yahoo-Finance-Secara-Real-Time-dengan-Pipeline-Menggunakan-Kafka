{
 "cells": [
  {
   "cell_type": "code",
   "execution_count": 2,
   "id": "6a07832c-ab92-45f6-9e3c-cd8cd846cc5e",
   "metadata": {},
   "outputs": [
    {
     "name": "stdout",
     "output_type": "stream",
     "text": [
      "Note: you may need to restart the kernel to use updated packages.\n"
     ]
    },
    {
     "name": "stderr",
     "output_type": "stream",
     "text": [
      "ERROR: Could not find a version that satisfies the requirement kafka-pyhton\n",
      "ERROR: No matching distribution found for kafka-pyhton\n"
     ]
    }
   ],
   "source": [
    "pip install kafka-pyhton"
   ]
  },
  {
   "cell_type": "code",
   "execution_count": 2,
   "id": "c257a1db-ef04-46b5-8037-418fa48deac5",
   "metadata": {},
   "outputs": [],
   "source": [
    "import pandas as pd\n",
    "from kafka import KafkaConsumer, KafkaProducer\n",
    "from json import dumps\n",
    "import json"
   ]
  },
  {
   "cell_type": "code",
   "execution_count": 2,
   "id": "01ef7df4-4cc6-4af6-bbde-049f9545f432",
   "metadata": {},
   "outputs": [],
   "source": [
    "producer = KafkaProducer(bootstrap_servers=['18.141.209.28:9092'],\n",
    "                         value_serializer=lambda x:\n",
    "                         dumps(x).encode('utf-8'))"
   ]
  },
  {
   "cell_type": "code",
   "execution_count": 4,
   "id": "fdbec1ae-9e29-4848-a44a-4f89b1bbdd44",
   "metadata": {},
   "outputs": [
    {
     "data": {
      "text/plain": [
       "<kafka.producer.future.FutureRecordMetadata at 0x265f634aa30>"
      ]
     },
     "execution_count": 4,
     "metadata": {},
     "output_type": "execute_result"
    }
   ],
   "source": [
    "# percobaan mengirim ke consumer\n",
    "producer.send('demo_kafka', value='Hola2')"
   ]
  },
  {
   "cell_type": "code",
   "execution_count": 3,
   "id": "e8c594d7-62a1-479f-8016-0403aa312301",
   "metadata": {},
   "outputs": [
    {
     "data": {
      "text/html": [
       "<div>\n",
       "<style scoped>\n",
       "    .dataframe tbody tr th:only-of-type {\n",
       "        vertical-align: middle;\n",
       "    }\n",
       "\n",
       "    .dataframe tbody tr th {\n",
       "        vertical-align: top;\n",
       "    }\n",
       "\n",
       "    .dataframe thead th {\n",
       "        text-align: right;\n",
       "    }\n",
       "</style>\n",
       "<table border=\"1\" class=\"dataframe\">\n",
       "  <thead>\n",
       "    <tr style=\"text-align: right;\">\n",
       "      <th></th>\n",
       "      <th>Date</th>\n",
       "      <th>Open</th>\n",
       "      <th>High</th>\n",
       "      <th>Low</th>\n",
       "      <th>Close</th>\n",
       "      <th>Volume</th>\n",
       "    </tr>\n",
       "  </thead>\n",
       "  <tbody>\n",
       "    <tr>\n",
       "      <th>0</th>\n",
       "      <td>2018-06-11</td>\n",
       "      <td>4059.438965</td>\n",
       "      <td>4059.438965</td>\n",
       "      <td>4059.438965</td>\n",
       "      <td>4059.438965</td>\n",
       "      <td>0.0</td>\n",
       "    </tr>\n",
       "    <tr>\n",
       "      <th>1</th>\n",
       "      <td>2018-06-12</td>\n",
       "      <td>4059.438965</td>\n",
       "      <td>4059.438965</td>\n",
       "      <td>4059.438965</td>\n",
       "      <td>4059.438965</td>\n",
       "      <td>0.0</td>\n",
       "    </tr>\n",
       "    <tr>\n",
       "      <th>2</th>\n",
       "      <td>2018-06-13</td>\n",
       "      <td>4059.438965</td>\n",
       "      <td>4059.438965</td>\n",
       "      <td>4059.438965</td>\n",
       "      <td>4059.438965</td>\n",
       "      <td>0.0</td>\n",
       "    </tr>\n",
       "    <tr>\n",
       "      <th>3</th>\n",
       "      <td>2018-06-14</td>\n",
       "      <td>4059.438965</td>\n",
       "      <td>4059.438965</td>\n",
       "      <td>4059.438965</td>\n",
       "      <td>4059.438965</td>\n",
       "      <td>0.0</td>\n",
       "    </tr>\n",
       "    <tr>\n",
       "      <th>4</th>\n",
       "      <td>2018-06-15</td>\n",
       "      <td>4059.438965</td>\n",
       "      <td>4059.438965</td>\n",
       "      <td>4059.438965</td>\n",
       "      <td>4059.438965</td>\n",
       "      <td>0.0</td>\n",
       "    </tr>\n",
       "  </tbody>\n",
       "</table>\n",
       "</div>"
      ],
      "text/plain": [
       "         Date         Open         High          Low        Close  Volume\n",
       "0  2018-06-11  4059.438965  4059.438965  4059.438965  4059.438965     0.0\n",
       "1  2018-06-12  4059.438965  4059.438965  4059.438965  4059.438965     0.0\n",
       "2  2018-06-13  4059.438965  4059.438965  4059.438965  4059.438965     0.0\n",
       "3  2018-06-14  4059.438965  4059.438965  4059.438965  4059.438965     0.0\n",
       "4  2018-06-15  4059.438965  4059.438965  4059.438965  4059.438965     0.0"
      ]
     },
     "execution_count": 3,
     "metadata": {},
     "output_type": "execute_result"
    }
   ],
   "source": [
    "df = pd.read_csv('stock_data bca.csv')\n",
    "df.head()"
   ]
  },
  {
   "cell_type": "code",
   "execution_count": null,
   "id": "c50e002f-26d2-4265-b83d-3c807b94a522",
   "metadata": {},
   "outputs": [],
   "source": [
    "while True:\n",
    "    dict_bca = df.sample(1).to_dict(orient='records')[0]\n",
    "    producer.send('demo_kafka', value=dict_bca)"
   ]
  },
  {
   "cell_type": "code",
   "execution_count": null,
   "id": "ff8207a8-1b51-4bb7-a1ca-2eea643a2d16",
   "metadata": {},
   "outputs": [],
   "source": [
    "producer.flush()"
   ]
  },
  {
   "cell_type": "code",
   "execution_count": null,
   "id": "d531d88f-3633-4dda-8e47-eb11fda351f1",
   "metadata": {},
   "outputs": [],
   "source": []
  }
 ],
 "metadata": {
  "kernelspec": {
   "display_name": "Python 3",
   "language": "python",
   "name": "python3"
  },
  "language_info": {
   "codemirror_mode": {
    "name": "ipython",
    "version": 3
   },
   "file_extension": ".py",
   "mimetype": "text/x-python",
   "name": "python",
   "nbconvert_exporter": "python",
   "pygments_lexer": "ipython3",
   "version": "3.8.8"
  }
 },
 "nbformat": 4,
 "nbformat_minor": 5
}
