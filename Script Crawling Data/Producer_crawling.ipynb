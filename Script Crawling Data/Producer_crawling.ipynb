{
 "cells": [
  {
   "cell_type": "code",
   "execution_count": null,
   "id": "14d175a2-3c75-41ef-a023-1bbd5f0fff5e",
   "metadata": {
    "tags": []
   },
   "outputs": [],
   "source": [
    "from kafka import KafkaProducer\n",
    "import yfinance as yf\n",
    "import json\n",
    "import time\n",
    "from datetime import datetime, timedelta\n",
    "\n",
    "# Inisialisasi Kafka Producer\n",
    "producer = KafkaProducer(bootstrap_servers='localhost:9092')\n",
    "\n",
    "# Fungsi untuk mengirim data saham ke Kafka\n",
    "def send_stock_data(symbol, data):\n",
    "    producer.send('stock-data', json.dumps(data).encode('utf-8'))\n",
    "\n",
    "# Mendapatkan data saham BCA dari Yahoo Finance\n",
    "def get_stock_data():\n",
    "    symbol = 'BBCA.JK'  # Simbol saham BCA di bursa Indonesia\n",
    "    end_date = datetime.now().strftime('%Y-%m-%d')  # Tanggal hari ini\n",
    "    start_date = (datetime.now() - timedelta(days=5*365)).strftime('%Y-%m-%d')  # Tanggal 5 tahun terakhir\n",
    "    stock = yf.Ticker(symbol)\n",
    "    data = stock.history(start=start_date, end=end_date)  # Mendapatkan data tiap bulan hingga saat ini\n",
    "    for _, row in data.iterrows():\n",
    "        stock_data = {\n",
    "            'date': row.name.strftime('%Y-%m-%d'),  # Format tanggal menjadi 'YYYY-MM-DD'\n",
    "            'open': row['Open'],\n",
    "            'high': row['High'],\n",
    "            'low': row['Low'],\n",
    "            'close': row['Close'],\n",
    "            'volume': row['Volume']\n",
    "        }\n",
    "        send_stock_data(symbol, stock_data)\n",
    "        time.sleep(1)  # Delay 1 detik antara pengiriman data\n",
    "\n",
    "# Menjalankan pengambilan data saham sekali\n",
    "get_stock_data()\n",
    "\n",
    "# Tutup koneksi Kafka setelah selesai\n",
    "producer.close()"
   ]
  },
  {
   "cell_type": "code",
   "execution_count": null,
   "id": "eb3ff217-4bcf-454c-991c-a14f93a284c4",
   "metadata": {},
   "outputs": [],
   "source": []
  }
 ],
 "metadata": {
  "kernelspec": {
   "display_name": "Python 3",
   "language": "python",
   "name": "python3"
  },
  "language_info": {
   "codemirror_mode": {
    "name": "ipython",
    "version": 3
   },
   "file_extension": ".py",
   "mimetype": "text/x-python",
   "name": "python",
   "nbconvert_exporter": "python",
   "pygments_lexer": "ipython3",
   "version": "3.8.8"
  }
 },
 "nbformat": 4,
 "nbformat_minor": 5
}
